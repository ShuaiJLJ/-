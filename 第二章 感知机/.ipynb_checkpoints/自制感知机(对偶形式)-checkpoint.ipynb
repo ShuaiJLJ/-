{
 "cells": [
  {
   "cell_type": "code",
   "execution_count": null,
   "metadata": {},
   "outputs": [],
   "source": [
    "import numpy as np\n",
    "import matplotlib.pyplot as plt"
   ]
  },
  {
   "cell_type": "code",
   "execution_count": null,
   "metadata": {},
   "outputs": [],
   "source": [
    "%matplotlib inline"
   ]
  },
  {
   "cell_type": "code",
   "execution_count": null,
   "metadata": {},
   "outputs": [],
   "source": [
    "#创造样本\n",
    "def CreateSample():\n",
    "    sample = np.array([[3,3],[4,3],[1,1]])\n",
    "    label = [1,1,-1]\n",
    "    return sample,label\n",
    "sample,label = CreateSample()\n",
    "a = np.zeros(sample.shape[0],dtype=np.int)"
   ]
  },
  {
   "cell_type": "code",
   "execution_count": null,
   "metadata": {},
   "outputs": [],
   "source": [
    "#计算Gram矩阵\n",
    "def CreateGram(sample):\n",
    "    gram = np.zeros((sample.shape[0],sample.shape[0]),dtype=np.int)\n",
    "    for i in range(sample.shape[0]):\n",
    "     for j in range(sample.shape[0]):\n",
    "        gram[i][j] = np.dot(sample[i],sample[j])\n",
    "    return gram        "
   ]
  },
  {
   "cell_type": "code",
   "execution_count": null,
   "metadata": {},
   "outputs": [],
   "source": [
    "#参数更新\n",
    "def update(i,label):\n",
    "    global a , b\n",
    "    a[i] += 1\n",
    "    b += label"
   ]
  },
  {
   "cell_type": "code",
   "execution_count": null,
   "metadata": {},
   "outputs": [],
   "source": [
    "#误分条件\n",
    "def is_false(i,y):\n",
    "    global a , b , label , G\n",
    "    isfalse = True\n",
    "    result = 0\n",
    "    for j in range(len(a)):\n",
    "        result += a[j]*label[j]*G[i][j]\n",
    "    result += b\n",
    "    result *= y\n",
    "    if(result <= 0):\n",
    "        isfalse = False\n",
    "    return isfalse"
   ]
  },
  {
   "cell_type": "code",
   "execution_count": null,
   "metadata": {},
   "outputs": [],
   "source": [
    "#主函数\n",
    "def main():\n",
    "    #初始化变量\n",
    "    global a , b , G , label\n",
    "    sample,label = CreateSample()\n",
    "    type(label)\n",
    "    a = np.zeros(sample.shape[0],dtype=np.int)\n",
    "    G = CreateGram(sample)\n",
    "    b = 0\n",
    "    i = 0\n",
    "    while i < sample.shape[0]:\n",
    "        isfalse = is_false(i,label[i])\n",
    "        if not isfalse:\n",
    "            update(i,label[i])\n",
    "            i = 0\n",
    "        else:\n",
    "            i = i + 1\n",
    "    #计算权值w\n",
    "    w = np.zeros_like(sample[0])\n",
    "    for j in range(len(a)):\n",
    "         w += a[j] * sample[j] * label[j]\n",
    "    #结果图像显示\n",
    "    for t in range(len(a)):\n",
    "        if label[t] == 1:\n",
    "            plt.plot(sample[t][0], sample[t][1], 'bo', color='orange', label='1')\n",
    "        else:\n",
    "            plt.plot(sample[t][0], sample[t][1], 'bo', color='blue', label='-1') \n",
    "    x = np.linspace(0,10,100)\n",
    "    y = (w[0] * x + b) / w[1]\n",
    "    plt.plot(x , y)\n",
    "main()"
   ]
  },
  {
   "cell_type": "code",
   "execution_count": null,
   "metadata": {},
   "outputs": [],
   "source": []
  }
 ],
 "metadata": {
  "kernelspec": {
   "display_name": "Python 3",
   "language": "python",
   "name": "python3"
  },
  "language_info": {
   "codemirror_mode": {
    "name": "ipython",
    "version": 3
   },
   "file_extension": ".py",
   "mimetype": "text/x-python",
   "name": "python",
   "nbconvert_exporter": "python",
   "pygments_lexer": "ipython3",
   "version": "3.7.1"
  }
 },
 "nbformat": 4,
 "nbformat_minor": 2
}
